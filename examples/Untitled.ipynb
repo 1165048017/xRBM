{
 "cells": [
  {
   "cell_type": "code",
   "execution_count": 1,
   "metadata": {
    "collapsed": true
   },
   "outputs": [],
   "source": [
    "import tensorflow as tf\n",
    "import numpy as np"
   ]
  },
  {
   "cell_type": "code",
   "execution_count": null,
   "metadata": {
    "collapsed": true
   },
   "outputs": [],
   "source": [
    "def step(i, param):\n",
    "    i=tf.add(i, 1)\n",
    "    return i, tf.square(param)\n",
    "\n",
    "counter = tf.constant(0)\n",
    "c = lambda i, *args: tf.less(i, 3)\n",
    "b = lambda i, *args: tf.add(i, 1)\n",
    "\n",
    "p = tf.Variable(initial_value=2.0)\n",
    "r = tf.while_loop(c, step, [counter, 4.])\n",
    "\n",
    "init = tf.global_variables_initializer()\n",
    "\n",
    "with tf.Session() as sess:\n",
    "    sess.run(init)\n",
    "    print(sess.run(r))"
   ]
  },
  {
   "cell_type": "code",
   "execution_count": null,
   "metadata": {
    "collapsed": true
   },
   "outputs": [],
   "source": []
  }
 ],
 "metadata": {
  "anaconda-cloud": {},
  "kernelspec": {
   "display_name": "Python [conda env:tfconda35]",
   "language": "python",
   "name": "conda-env-tfconda35-py"
  },
  "language_info": {
   "codemirror_mode": {
    "name": "ipython",
    "version": 3
   },
   "file_extension": ".py",
   "mimetype": "text/x-python",
   "name": "python",
   "nbconvert_exporter": "python",
   "pygments_lexer": "ipython3",
   "version": "3.5.2"
  }
 },
 "nbformat": 4,
 "nbformat_minor": 2
}
