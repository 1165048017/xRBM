{
 "cells": [
  {
   "cell_type": "code",
   "execution_count": 1,
   "metadata": {},
   "outputs": [
    {
     "name": "stderr",
     "output_type": "stream",
     "text": [
      "/home/omid/anaconda2/envs/tfconda35/lib/python3.5/site-packages/matplotlib/__init__.py:1357: UserWarning:  This call to matplotlib.use() has no effect\n",
      "because the backend has already been chosen;\n",
      "matplotlib.use() must be called *before* pylab, matplotlib.pyplot,\n",
      "or matplotlib.backends is imported for the first time.\n",
      "\n",
      "  warnings.warn(_use_error_msg)\n"
     ]
    }
   ],
   "source": [
    "\"\"\"\n",
    "An example of how to train an RBM with more control over training parameters\n",
    "\n",
    "Created by Omid Alemi\n",
    "\"\"\"\n",
    "\n",
    "%matplotlib inline\n",
    "import matplotlib.pyplot as plt\n",
    "import PIL.Image as Image\n",
    "\n",
    "import numpy as np\n",
    "import tensorflow as tf\n",
    "from tensorflow.examples.tutorials.mnist import input_data\n",
    "from IPython import display\n",
    "import sys\n",
    "sys.path.append('../')\n",
    "\n",
    "from xrbm.models.rbm import RBM\n",
    "from xrbm.utils.vizutils import tile_raster_images\n",
    "from xrbm.utils import tfutils"
   ]
  },
  {
   "cell_type": "code",
   "execution_count": 2,
   "metadata": {
    "collapsed": true
   },
   "outputs": [],
   "source": [
    "def leaky_relu(z, name=None):\n",
    "    return tf.maximum(0.01 * z, z, name=name)"
   ]
  },
  {
   "cell_type": "code",
   "execution_count": 3,
   "metadata": {},
   "outputs": [
    {
     "name": "stdout",
     "output_type": "stream",
     "text": [
      "Extracting MNIST_data/train-images-idx3-ubyte.gz\n",
      "Extracting MNIST_data/train-labels-idx1-ubyte.gz\n",
      "Extracting MNIST_data/t10k-images-idx3-ubyte.gz\n",
      "Extracting MNIST_data/t10k-labels-idx1-ubyte.gz\n"
     ]
    }
   ],
   "source": [
    "data_sets = input_data.read_data_sets('MNIST_data', False)\n",
    "\n",
    " # Set up the parameters\n",
    "training_data = data_sets.train.images\n",
    "snapshot_dir = './logs/'\n",
    "snapshot_freq = 100\n",
    "num_vis = training_data[0].shape[0]\n",
    "num_hid = 200\n",
    "learning_rate=0.05\n",
    "batch_size=100\n",
    "cd_k=10\n",
    "wdecay=0.0002\n",
    "momentum=0.9\n",
    "training_epochs=30\n",
    "activation=tf.nn.sigmoid\n",
    "initializer=tf.contrib.layers.xavier_initializer()\n",
    "sparse_target=0.2\n",
    "sparse_decay=0.99\n",
    "sparse_cost=0\n"
   ]
  },
  {
   "cell_type": "code",
   "execution_count": 4,
   "metadata": {},
   "outputs": [],
   "source": [
    "r1 = RBM(num_vis=num_vis, num_hid=num_hid, vis_type='binary', \n",
    "         name='rbm_mnist_custom', activation=activation, initializer=initializer)\n",
    "\n",
    "# Create the tf tensors\n",
    "r1.create_placeholders_variables()"
   ]
  },
  {
   "cell_type": "code",
   "execution_count": 5,
   "metadata": {},
   "outputs": [],
   "source": [
    "# Make batches\n",
    "r1.batch_size = batch_size\n",
    "batch_idxs = np.random.permutation(range(len(training_data)))\n",
    "n_batches = len(batch_idxs) // batch_size"
   ]
  },
  {
   "cell_type": "code",
   "execution_count": null,
   "metadata": {
    "collapsed": true
   },
   "outputs": [],
   "source": [
    "# Define train ops            \n",
    "\n",
    "mom = tf.Variable(initial_value=momentum, dtype=tf.float32)\n",
    "sp_cost = tf.Variable(initial_value=momentum, dtype=tf.float32)\n",
    "batch_data_ph = tfutils.data_variable((None,training_data.shape[1]),'batch_data')\n",
    "lr = tf.Variable(initial_value=learning_rate, dtype=tf.float32)\n",
    "\n",
    "train_op = r1.train_step(batch_data_ph, \n",
    "                            lr, \n",
    "                            mom, \n",
    "                            wdecay, \n",
    "                            cd_k=cd_k,\n",
    "                            sparse_target=sparse_target, \n",
    "                            sparse_cost=sp_cost, \n",
    "                            sparse_decay=sparse_decay)\n"
   ]
  },
  {
   "cell_type": "code",
   "execution_count": null,
   "metadata": {},
   "outputs": [
    {
     "data": {
      "image/png": "[encoded data removed]",
      "text/plain": [
       "<matplotlib.figure.Figure at 0x7f7a440c43c8>"
      ]
     },
     "metadata": {},
     "output_type": "display_data"
    }
   ],
   "source": [
    "# Run everything in tf\n",
    "with tf.Session() as sess:    \n",
    "\n",
    "    sess.run(tf.global_variables_initializer())\n",
    "\n",
    "    # Run everything in tf \n",
    "    for epoch in range(training_epochs):\n",
    "        epoch_cost = 0\n",
    "        epoch_h_means = 0;\n",
    "\n",
    "        m = momentum\n",
    "        sc = sparse_cost\n",
    "\n",
    "        if epoch < 6:\n",
    "            m = 0\n",
    "            sc = 0\n",
    "        \n",
    "        # if epoch > 20:\n",
    "        #     learning_rate = 0.001\n",
    "\n",
    "        for batch_i in range(n_batches):\n",
    "            # Get just minibatch amount of data\n",
    "            idxs_i = batch_idxs[batch_i * batch_size:(batch_i + 1) * batch_size]\n",
    "\n",
    "            # Create the feed for the batch data\n",
    "            feed = feed_dict={batch_data_ph: training_data[idxs_i],\n",
    "                              mom: m,\n",
    "                              sp_cost: sc,\n",
    "                              lr: learning_rate}\n",
    "\n",
    "            # Run the training step\n",
    "            (rec_cost, new_params, updates, h_means) = sess.run(train_op, feed_dict=feed)\n",
    "\n",
    "            # Add up the cost\n",
    "            epoch_cost += rec_cost\n",
    "            epoch_h_means += h_means\n",
    "        \n",
    "        epoch_cost = epoch_cost/n_batches\n",
    "\n",
    "        _W = r1.W.eval().transpose()\n",
    "\n",
    "        image = Image.fromarray(\n",
    "            tile_raster_images(\n",
    "                X=_W,\n",
    "                img_shape=(28,28),\n",
    "                tile_shape=(10, 20),\n",
    "                tile_spacing=(1, 1)\n",
    "            )\n",
    "        )\n",
    "        \n",
    "        title = ('Epoch %i / %i | cost = %f | lr = %f | momentum = %f | sparse cost = %f'%\n",
    "                (epoch+1, training_epochs, epoch_cost, learning_rate, m, sc))\n",
    "        \n",
    "        ax = plt.figure(figsize=(12,8))\n",
    "        plt.title(title)\n",
    "        plt.imshow(image, cmap='gray')\n",
    "        display.clear_output(wait=True)\n",
    "        display.display(ax)\n",
    "        "
   ]
  },
  {
   "cell_type": "code",
   "execution_count": null,
   "metadata": {
    "collapsed": true
   },
   "outputs": [],
   "source": []
  }
 ],
 "metadata": {
  "anaconda-cloud": {},
  "kernelspec": {
   "display_name": "Python [conda env:tfconda35]",
   "language": "python",
   "name": "conda-env-tfconda35-py"
  },
  "language_info": {
   "codemirror_mode": {
    "name": "ipython",
    "version": 3
   },
   "file_extension": ".py",
   "mimetype": "text/x-python",
   "name": "python",
   "nbconvert_exporter": "python",
   "pygments_lexer": "ipython3",
   "version": "3.5.2"
  }
 },
 "nbformat": 4,
 "nbformat_minor": 2
}
